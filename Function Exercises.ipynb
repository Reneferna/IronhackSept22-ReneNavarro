{
 "cells": [
  {
   "cell_type": "code",
   "execution_count": 1,
   "id": "4e6bd832",
   "metadata": {},
   "outputs": [
    {
     "name": "stdout",
     "output_type": "stream",
     "text": [
      "Program starts\n",
      "Hi Peter\n",
      "Nice to see you again!\n",
      "Enjoy our video!\n",
      "Hi Sarah\n",
      "Nice to see you again!\n",
      "Enjoy our video!\n",
      "Hi Dominque\n",
      "Nice to see you again!\n",
      "Enjoy our video!\n"
     ]
    }
   ],
   "source": [
    "def greet(name):\n",
    "    print(\"Hi \" + name)\n",
    "    print(\"Nice to see you again!\")\n",
    "    print(\"Enjoy our video!\")\n",
    "\n",
    "\n",
    "print(\"Program starts\")\n",
    "\n",
    "greet(\"Peter\")         \n",
    "\n",
    "\n",
    "# some lines of codes\n",
    "the_answer = 42 \n",
    "\n",
    "greet(\"Sarah\")      \n",
    "\n",
    "width, length = 3, 4\n",
    "area = width * length\n",
    "\n",
    "\n",
    "greet(\"Dominque\")      "
   ]
  },
  {
   "cell_type": "code",
   "execution_count": 2,
   "id": "9bfa2a81",
   "metadata": {},
   "outputs": [
    {
     "name": "stdout",
     "output_type": "stream",
     "text": [
      "Program starts!\n",
      "Result of function call: 16\n",
      "Result of function call: 22\n"
     ]
    }
   ],
   "source": [
    "def f(x, y):\n",
    "    z = 2 * (x + y)\n",
    "    return z\n",
    "\n",
    "\n",
    "print(\"Program starts!\")\n",
    "a = 3\n",
    "res1 = f(a, 2+a)\n",
    "print(\"Result of function call:\", res1)\n",
    "a = 4\n",
    "b = 7\n",
    "res2 = f(a, b)\n",
    "print(\"Result of function call:\", res2)"
   ]
  },
  {
   "cell_type": "code",
   "execution_count": 3,
   "id": "c22e698c",
   "metadata": {},
   "outputs": [
    {
     "name": "stdout",
     "output_type": "stream",
     "text": [
      "22.6 :  72.68\n",
      "25.8 :  78.44\n",
      "27.3 :  81.14\n",
      "29.8 :  85.64\n"
     ]
    }
   ],
   "source": [
    "def fahrenheit(T_in_celsius):\n",
    "    \"\"\" returns the temperature in degrees Fahrenheit \"\"\"\n",
    "    return (T_in_celsius * 9 / 5) + 32\n",
    "\n",
    "for t in (22.6, 25.8, 27.3, 29.8):\n",
    "    print(t, \": \", fahrenheit(t))"
   ]
  },
  {
   "cell_type": "code",
   "execution_count": 4,
   "id": "276612ed",
   "metadata": {},
   "outputs": [
    {
     "name": "stdout",
     "output_type": "stream",
     "text": [
      "What is your height? 1.78\n",
      "What is your weight? 72\n",
      "22.724403484408533\n",
      "Normal (healthy weight)\n"
     ]
    }
   ],
   "source": [
    "def BMI(weight, height):\n",
    "    \"\"\" calculates the BMI where \n",
    "        weight is in kg and height in metres\"\"\"\n",
    "    return weight / height**2\n",
    "height = float(input(\"What is your height? \"))\n",
    "weight = float(input(\"What is your weight? \"))\n",
    "\n",
    "bmi = weight / height ** 2\n",
    "print(bmi)\n",
    "if bmi < 15:\n",
    "    print(\"Very severely underweight\")\n",
    "elif bmi < 16:\n",
    "    print(\"Severely underweight\")\n",
    "elif bmi < 18.5:\n",
    "    print(\"Underweight\")\n",
    "elif bmi < 25:\n",
    "    print(\"Normal (healthy weight)\")\n",
    "elif bmi < 30:\n",
    "    print(\"Overweight\")\n",
    "elif bmi < 35:\n",
    "    print(\"Obese Class I (Moderately obese)\")\n",
    "elif bmi < 40:\n",
    "    print(\"Obese Class II (Severely obese)\")\n",
    "else:\n",
    "    print(\"Obese Class III (Very severely obese)\")"
   ]
  },
  {
   "cell_type": "code",
   "execution_count": 5,
   "id": "fe77dfaf",
   "metadata": {},
   "outputs": [
    {
     "name": "stdout",
     "output_type": "stream",
     "text": [
      "None\n"
     ]
    }
   ],
   "source": [
    "def empty_return(x, y):\n",
    "    c = x + y\n",
    "    return\n",
    "\n",
    "res = empty_return(4, 5)\n",
    "print(res)"
   ]
  },
  {
   "cell_type": "code",
   "execution_count": 6,
   "id": "b1cba986",
   "metadata": {},
   "outputs": [
    {
     "name": "stdout",
     "output_type": "stream",
     "text": [
      "9\n"
     ]
    }
   ],
   "source": [
    "def return_sum(x, y):\n",
    "    c = x + y\n",
    "    return c\n",
    "\n",
    "res = return_sum(4, 5)\n",
    "print(res)"
   ]
  },
  {
   "cell_type": "code",
   "execution_count": 9,
   "id": "d3d43d9c",
   "metadata": {},
   "outputs": [
    {
     "name": "stdout",
     "output_type": "stream",
     "text": [
      "Your number: 0\n"
     ]
    }
   ],
   "source": [
    "def fib_interval(x):\n",
    "    \"\"\" returns the largest fibonacci\n",
    "    number smaller than x and the lowest\n",
    "    fibonacci number higher than x\"\"\"\n",
    "    if x < 0:\n",
    "        return -1\n",
    "    old, new = 0, 1\n",
    "    while True:\n",
    "        if new < x:\n",
    "            old, new = new, old+new\n",
    "        else:\n",
    "            if new == x: \n",
    "                new = old + new\n",
    "            return (old, new)\n",
    "            \n",
    "while True:\n",
    "    x = int(input(\"Your number: \"))\n",
    "    if x <= 0:\n",
    "        break\n",
    "    lub, sup = fib_interval(x)\n",
    "    print(\"Largest Fibonacci Number smaller than x: \" + str(lub))\n",
    "    print(\"Smallest Fibonacci Number larger than x: \" + str(sup))"
   ]
  },
  {
   "cell_type": "code",
   "execution_count": 11,
   "id": "fa3ca3fb",
   "metadata": {},
   "outputs": [
    {
     "name": "stdout",
     "output_type": "stream",
     "text": [
      "How old is your dog? 3\n",
      "This corresponds to 27 human years!\n"
     ]
    }
   ],
   "source": [
    "def dog_age2human_age(dog_age):\n",
    "    \"\"\"dog_age2human_age(dog_age)\"\"\"\n",
    "    if dog_age == 1:\n",
    "        human_age = 14\n",
    "    elif dog_age == 2:\n",
    "        human_age = 22\n",
    "    else:\n",
    "        human_age =  22 + (dog_age-2)*5\n",
    "    return human_age\n",
    "\n",
    "age = int(input(\"How old is your dog? \"))\n",
    "print(f\"This corresponds to {dog_age2human_age(age)} human years!\")"
   ]
  },
  {
   "cell_type": "code",
   "execution_count": 14,
   "id": "a5fdd4d0",
   "metadata": {},
   "outputs": [
    {
     "name": "stdout",
     "output_type": "stream",
     "text": [
      "Enter a value of a: 10\n",
      "Enter a value of b: 5\n",
      "Sum is15.0,Sub is5.0,Multiply is50.0,Divide is2.0\n"
     ]
    }
   ],
   "source": [
    "def calculator(a,b):\n",
    "    suma=a+b\n",
    "    sub=a-b\n",
    "    mul=a*b\n",
    "    div=a/b\n",
    "    print(f\"Sum is{suma},Sub is{sub},Multiply is{mul},Divide is{div}\")\n",
    "a=float(input(\"Enter a value of a: \"))\n",
    "b=float(input(\"Enter a value of b: \"))\n",
    "calculator(a,b)"
   ]
  },
  {
   "cell_type": "code",
   "execution_count": 28,
   "id": "eccf3f05",
   "metadata": {},
   "outputs": [
    {
     "name": "stdout",
     "output_type": "stream",
     "text": [
      "Enter a word: rikimura\n",
      "Count of vowel is 4\n",
      "Count of consonant is 4\n"
     ]
    }
   ],
   "source": [
    "def count(word):\n",
    "    vowel=0\n",
    "    consonant=0\n",
    "    for z in range(len(word)):\n",
    "        if word[z]in['a','e','i','o','u']:\n",
    "            vowel=vowel+1\n",
    "        else:\n",
    "            consonant=consonant+1\n",
    "    print(\"Count of vowel is\", vowel)\n",
    "    print(\"Count of consonant is\", consonant)\n",
    "x=input(\"Enter a word: \")\n",
    "count(x)"
   ]
  },
  {
   "cell_type": "code",
   "execution_count": 32,
   "id": "761f91ba",
   "metadata": {
    "scrolled": true
   },
   "outputs": [
    {
     "name": "stdout",
     "output_type": "stream",
     "text": [
      "Enter a number6\n",
      "facorial is 6.0\n",
      "facorial is 30.0\n",
      "facorial is 120.0\n",
      "facorial is 360.0\n",
      "facorial is 720.0\n",
      "facorial is 720.0\n"
     ]
    }
   ],
   "source": [
    "def factorial(num):\n",
    "    fact=1\n",
    "    while(num!=0):\n",
    "        fact=fact*num\n",
    "        num=num-1\n",
    "        print(\"facorial is\",fact)\n",
    "num=float(input(\"Enter a number\"))\n",
    "factorial(num)"
   ]
  },
  {
   "cell_type": "code",
   "execution_count": 35,
   "id": "b804dbc6",
   "metadata": {},
   "outputs": [
    {
     "name": "stdout",
     "output_type": "stream",
     "text": [
      "enter radius: 4\n"
     ]
    },
    {
     "data": {
      "text/plain": [
       "50.24"
      ]
     },
     "execution_count": 35,
     "metadata": {},
     "output_type": "execute_result"
    }
   ],
   "source": [
    "def circlearea(radius):\n",
    "    area=3.14*radius*radius\n",
    "    return area\n",
    "radius=float(input(\"enter radius: \"))\n",
    "circlearea(radius)"
   ]
  },
  {
   "cell_type": "code",
   "execution_count": null,
   "id": "d2b5d48a",
   "metadata": {},
   "outputs": [],
   "source": []
  }
 ],
 "metadata": {
  "kernelspec": {
   "display_name": "Python 3 (ipykernel)",
   "language": "python",
   "name": "python3"
  },
  "language_info": {
   "codemirror_mode": {
    "name": "ipython",
    "version": 3
   },
   "file_extension": ".py",
   "mimetype": "text/x-python",
   "name": "python",
   "nbconvert_exporter": "python",
   "pygments_lexer": "ipython3",
   "version": "3.9.12"
  }
 },
 "nbformat": 4,
 "nbformat_minor": 5
}
