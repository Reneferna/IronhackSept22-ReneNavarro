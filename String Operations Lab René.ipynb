{
 "cells": [
  {
   "cell_type": "code",
   "execution_count": 3,
   "id": "bf46e43c-03fd-41f6-b4d2-351c1ac27663",
   "metadata": {},
   "outputs": [],
   "source": [
    "import re\n"
   ]
  },
  {
   "cell_type": "code",
   "execution_count": 45,
   "id": "8f72ad27-4649-473c-a69c-99e6490577d9",
   "metadata": {},
   "outputs": [
    {
     "data": {
      "text/plain": [
       "'Durante un tiempo no estuvo segura de si su marido era su marido.'"
      ]
     },
     "execution_count": 45,
     "metadata": {},
     "output_type": "execute_result"
    }
   ],
   "source": [
    "#In the cell below, combine the strings in the list and add spaces between the strings (do not add a space after the last string). Insert a period after the last string.\n",
    "str_list = ['Durante', 'un', 'tiempo', 'no', 'estuvo', 'segura', 'de', 'si', 'su', 'marido', 'era', 'su', 'marido']\n",
    "' '.join(str_list) + \".\""
   ]
  },
  {
   "cell_type": "code",
   "execution_count": 70,
   "id": "96889fed-8cd6-4141-af38-b9e3c04db60f",
   "metadata": {},
   "outputs": [
    {
     "name": "stdout",
     "output_type": "stream",
     "text": [
      "['Bananas', 'Chocolate', 'bread', 'diapers', 'Ice Cream', 'Brownie Mix', 'broccoli']\n"
     ]
    },
    {
     "data": {
      "text/plain": [
       "'Grocery List: bananas, bread, brownie mix, broccoli.'"
      ]
     },
     "execution_count": 70,
     "metadata": {},
     "output_type": "execute_result"
    }
   ],
   "source": [
    "#In the cell below, use the list of strings to create a grocery list. Start the list with the string Grocery list: and include a comma and a space between each item except for the last one. Include a period at the end. Only include foods in the list that start with the letter 'b' and ensure all foods are lower case.\n",
    "food_list = ['Bananas', 'Chocolate', 'bread', 'diapers', 'Ice Cream', 'Brownie Mix', 'broccoli']\n",
    "print(food_list)\n",
    "check = 'B'\n",
    "food_list_a = [i for i in food_list if i[0].lower() == check.lower()]\n",
    "food_list_b = [j.lower() for j in food_list_a]\n",
    "\"Grocery List: \"+', '.join(food_list_b) + \".\"\n"
   ]
  },
  {
   "cell_type": "code",
   "execution_count": 95,
   "id": "4ef6633a-e2f4-4051-91f3-028f56c1cc13",
   "metadata": {},
   "outputs": [
    {
     "name": "stdout",
     "output_type": "stream",
     "text": [
      "The area of the circle with radius: 4.5 is: 127.24 \n"
     ]
    }
   ],
   "source": [
    "#Compute the area of the circle and insert the radius and the area between the two strings. Make sure to include spaces between the variable and the strings.\n",
    "#Note: You can use the techniques we have learned so far or use f-strings. F-strings allow us to embed code inside strings.\n",
    "import math\n",
    "string1 = \"The area of the circle with radius:\"\n",
    "string2  = \"is:\"\n",
    "radius = 4.5\n",
    "radius_x2=radius**2\n",
    "pi =round(math.pi,4)\n",
    "print(f\"{string1} {radius} {string2} {round(radius_x2*pi,2)*2} \")"
   ]
  },
  {
   "cell_type": "code",
   "execution_count": 110,
   "id": "f4d1490d-54b9-491a-9a6b-0a70d32a6f98",
   "metadata": {},
   "outputs": [
    {
     "name": "stdout",
     "output_type": "stream",
     "text": [
      "['Some', 'say', 'the', 'world', 'will', 'end', 'in', 'fire,\\nSome', 'say', 'in', 'ice.\\nFrom', 'what', 'I’ve', 'tasted', 'of', 'desire\\nI', 'hold', 'with', 'those', 'who', 'favor', 'fire.\\nBut', 'if', 'it', 'had', 'to', 'perish', 'twice,\\nI', 'think', 'I', 'know', 'enough', 'of', 'hate\\nTo', 'say', 'that', 'for', 'destruction', 'ice\\nIs', 'also', 'great\\nAnd', 'would', 'suffice.']\n",
      "[('Some', 1), ('say', 3), ('the', 1), ('world', 1), ('will', 1), ('end', 1), ('in', 2), ('fire,\\nSome', 1), ('say', 3), ('in', 2), ('ice.\\nFrom', 1), ('what', 1), ('I’ve', 1), ('tasted', 1), ('of', 2), ('desire\\nI', 1), ('hold', 1), ('with', 1), ('those', 1), ('who', 1), ('favor', 1), ('fire.\\nBut', 1), ('if', 1), ('it', 1), ('had', 1), ('to', 1), ('perish', 1), ('twice,\\nI', 1), ('think', 1), ('I', 1), ('know', 1), ('enough', 1), ('of', 2), ('hate\\nTo', 1), ('say', 3), ('that', 1), ('for', 1), ('destruction', 1), ('ice\\nIs', 1), ('also', 1), ('great\\nAnd', 1), ('would', 1), ('suffice.', 1)]\n"
     ]
    }
   ],
   "source": [
    "#In the cell below, split the string into a list of strings using the space delimiter. Count the frequency of each word in the string in a dictionary. Strip the periods, line breaks and commas from the text. Make sure to remove empty strings from your dictionary.\n",
    "poem = \"\"\"Some say the world will end in fire,\n",
    "Some say in ice.\n",
    "From what I’ve tasted of desire\n",
    "I hold with those who favor fire.\n",
    "But if it had to perish twice,\n",
    "I think I know enough of hate\n",
    "To say that for destruction ice\n",
    "Is also great\n",
    "And would suffice.\"\"\"\n",
    "poem_1= poem.split(\" \")\n",
    "print(poem_1)\n",
    "frequency = []\n",
    "for w in poem_1:\n",
    "    frequency.append(poem_1.count(w))\n",
    "print(str(list(zip(poem_1, frequency))))"
   ]
  },
  {
   "cell_type": "code",
   "execution_count": 99,
   "id": "46fc4a98-4370-47cb-b0c9-f4526c0d9546",
   "metadata": {},
   "outputs": [
    {
     "name": "stdout",
     "output_type": "stream",
     "text": [
      "['as', 'a']\n"
     ]
    }
   ],
   "source": [
    "#In the cell below, find all the words that appear in the text and do not appear in the blacklist. You must parse the string but can choose any data structure you wish for the words that do not appear in the blacklist. Remove all non letter characters and convert all words to lower case.\n",
    "blacklist = ['and', 'as', 'an', 'a', 'the', 'in', 'it']\n",
    "poem1 = \"\"\"I was angry with my friend; \n",
    "I told my wrath, my wrath did end.\n",
    "I was angry with my foe: \n",
    "I told it not, my wrath did grow. \n",
    "\n",
    "And I waterd it in fears,\n",
    "Night & morning with my tears: \n",
    "And I sunned it with smiles,\n",
    "And with soft deceitful wiles. \n",
    "\n",
    "And it grew both day and night. \n",
    "Till it bore an apple bright. \n",
    "And my foe beheld it shine,\n",
    "And he knew that it was mine. \n",
    "\n",
    "And into my garden stole, \n",
    "When the night had veild the pole; \n",
    "In the morning glad I see; \n",
    "My foe outstretched beneath the tree.\"\"\"\n",
    "poem1 = [word.strip(\" ;:,.\") for word in poem1.lower().split()]\n",
    "words_not_appear_in_blacklist_from_poem = []\n",
    "\n",
    "for i in blacklist:\n",
    "    if i not in poem1:\n",
    "        words_not_appear_in_blacklist_from_poem.append(i)\n",
    "print(words_not_appear_in_blacklist_from_poem)"
   ]
  },
  {
   "cell_type": "code",
   "execution_count": 106,
   "id": "1591ca16-97a2-428f-9802-6360ee1f42b4",
   "metadata": {},
   "outputs": [
    {
     "name": "stdout",
     "output_type": "stream",
     "text": [
      "['T', 'P']\n"
     ]
    }
   ],
   "source": [
    "#Sometimes, we would like to perform more complex manipulations of our string. This is where regular expressions come in handy. In the cell below, return all characters that are upper case from the string specified below.\n",
    "poem = \"\"\"The apparition of these faces in the crowd;\n",
    "Petals on a wet, black bough.\"\"\"\n",
    "\n",
    "import re\n",
    "\n",
    "uppercase_letters = re.findall('[A-Z]', poem)\n",
    "\n",
    "print(letters_upper_poem)"
   ]
  },
  {
   "cell_type": "code",
   "execution_count": 111,
   "id": "02183c13-e320-4f7d-897c-59e6759a8351",
   "metadata": {},
   "outputs": [
    {
     "data": {
      "text/plain": [
       "['123abc', 'abc123', 'JohnSmith1', 'ABBY4']"
      ]
     },
     "execution_count": 111,
     "metadata": {},
     "output_type": "execute_result"
    }
   ],
   "source": [
    "#In the cell below, filter the list provided and return all elements of the list containing a number. To filter the list, use the re.search function. Check if the function does not return None. You can read more about the re.search function here.\n",
    "data = ['123abc', 'abc123', 'JohnSmith1', 'ABBY4', 'JANE']\n",
    "\n",
    "filtered = [x for x in data if re.search('\\d', x) is not None]\n",
    "filtered"
   ]
  },
  {
   "cell_type": "code",
   "execution_count": 112,
   "id": "31dfaa33-1781-4414-a424-65c657f0494a",
   "metadata": {},
   "outputs": [
    {
     "data": {
      "text/plain": [
       "['123abc', 'abc123', 'JohnSmith1']"
      ]
     },
     "execution_count": 112,
     "metadata": {},
     "output_type": "execute_result"
    }
   ],
   "source": [
    "#In the cell below, filter the list provided to keep only strings containing at least one digit and at least one lower case letter. As in the previous question, use the re.search function and check that the result is not None.\n",
    "data = ['123abc', 'abc123', 'JohnSmith1', 'ABBY4', 'JANE']\n",
    "[x for x in data if re.search(\"(?=.*\\d)(?=.*[a-z]).*\", x) is not None]"
   ]
  },
  {
   "cell_type": "code",
   "execution_count": null,
   "id": "42e209a1-653e-45d1-a364-651caa7ba608",
   "metadata": {},
   "outputs": [],
   "source": []
  }
 ],
 "metadata": {
  "kernelspec": {
   "display_name": "Python 3 (ipykernel)",
   "language": "python",
   "name": "python3"
  },
  "language_info": {
   "codemirror_mode": {
    "name": "ipython",
    "version": 3
   },
   "file_extension": ".py",
   "mimetype": "text/x-python",
   "name": "python",
   "nbconvert_exporter": "python",
   "pygments_lexer": "ipython3",
   "version": "3.9.12"
  }
 },
 "nbformat": 4,
 "nbformat_minor": 5
}
